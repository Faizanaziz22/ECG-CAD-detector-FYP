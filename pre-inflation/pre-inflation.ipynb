{
 "cells": [
  {
   "cell_type": "code",
   "execution_count": 1,
   "id": "d1bc8304-1010-4efc-ae6b-b5bc40444265",
   "metadata": {},
   "outputs": [
    {
     "ename": "FileNotFoundError",
     "evalue": "[WinError 3] The system cannot find the path specified: 'C:\\\\Users\\\\faizan\\\\ECG_detection\\\\pre-inflation'",
     "output_type": "error",
     "traceback": [
      "\u001b[1;31m---------------------------------------------------------------------------\u001b[0m",
      "\u001b[1;31mFileNotFoundError\u001b[0m                         Traceback (most recent call last)",
      "Cell \u001b[1;32mIn[1], line 41\u001b[0m\n\u001b[0;32m     38\u001b[0m         \u001b[38;5;28;01mreturn\u001b[39;00m \u001b[38;5;28;01mNone\u001b[39;00m\n\u001b[0;32m     40\u001b[0m \u001b[38;5;66;03m# ✅ Get all .ekg files\u001b[39;00m\n\u001b[1;32m---> 41\u001b[0m file_names \u001b[38;5;241m=\u001b[39m [f \u001b[38;5;28;01mfor\u001b[39;00m f \u001b[38;5;129;01min\u001b[39;00m \u001b[43mos\u001b[49m\u001b[38;5;241;43m.\u001b[39;49m\u001b[43mlistdir\u001b[49m\u001b[43m(\u001b[49m\u001b[43mfolder_path\u001b[49m\u001b[43m)\u001b[49m \u001b[38;5;28;01mif\u001b[39;00m f\u001b[38;5;241m.\u001b[39mendswith(\u001b[38;5;124m\"\u001b[39m\u001b[38;5;124m.ekg\u001b[39m\u001b[38;5;124m\"\u001b[39m)]\n\u001b[0;32m     43\u001b[0m \u001b[38;5;28;01mif\u001b[39;00m \u001b[38;5;129;01mnot\u001b[39;00m file_names:\n\u001b[0;32m     44\u001b[0m     \u001b[38;5;28mprint\u001b[39m(\u001b[38;5;124m\"\u001b[39m\u001b[38;5;124m⚠️ No .ekg files found in the folder!\u001b[39m\u001b[38;5;124m\"\u001b[39m)\n",
      "\u001b[1;31mFileNotFoundError\u001b[0m: [WinError 3] The system cannot find the path specified: 'C:\\\\Users\\\\faizan\\\\ECG_detection\\\\pre-inflation'"
     ]
    }
   ],
   "source": [
    "import numpy as np\n",
    "import os\n",
    "import matplotlib.pyplot as plt\n",
    "from scipy.signal import butter, filtfilt\n",
    "\n",
    "# ✅ Folder path jahan .ekg files hain\n",
    "folder_path = r\"C:\\Users\\faizan\\ECG_detection\\pre-inflation\"\n",
    "\n",
    "# ✅ Bandpass Filter Function (0.5 - 50 Hz)\n",
    "def bandpass_filter(signal, lowcut=0.5, highcut=50.0, fs=500, order=3):\n",
    "    nyquist = 0.5 * fs\n",
    "    low = lowcut / nyquist\n",
    "    high = highcut / nyquist\n",
    "    b, a = butter(order, [low, high], btype=\"band\")\n",
    "    return filtfilt(b, a, signal)\n",
    "\n",
    "# ✅ Function to Read & Process ECG Signals\n",
    "def read_and_process_ecg(file_path):\n",
    "    try:\n",
    "        # ✅ ECG data read karna\n",
    "        ecg_signal = np.fromfile(file_path, dtype=np.int16)  # Check dtype\n",
    "\n",
    "        # ✅ Check if the signal is empty\n",
    "        if ecg_signal.size == 0:\n",
    "            print(f\"⚠️ Warning: {file_path} is empty!\")\n",
    "            return None\n",
    "\n",
    "        # ✅ Normalize Signal (Scale between -1 to 1)\n",
    "        ecg_signal = ecg_signal / np.max(np.abs(ecg_signal))\n",
    "\n",
    "        # ✅ Apply Bandpass Filter\n",
    "        ecg_filtered = bandpass_filter(ecg_signal)\n",
    "\n",
    "        return ecg_filtered\n",
    "\n",
    "    except Exception as e:\n",
    "        print(f\"❌ Error reading {file_path}: {e}\")\n",
    "        return None\n",
    "\n",
    "# ✅ Get all .ekg files\n",
    "file_names = [f for f in os.listdir(folder_path) if f.endswith(\".ekg\")]\n",
    "\n",
    "if not file_names:\n",
    "    print(\"⚠️ No .ekg files found in the folder!\")\n",
    "else:\n",
    "    print(f\"📂 Found {len(file_names)} .ekg files\")\n",
    "\n",
    "    # ✅ Process all files\n",
    "    for file_name in file_names:\n",
    "        file_path = os.path.join(folder_path, file_name)\n",
    "        print(f\"📄 Processing {file_name}\")\n",
    "\n",
    "        ecg_signal = read_and_process_ecg(file_path)\n",
    "\n",
    "        if ecg_signal is not None:\n",
    "            print(f\"✅ ECG Signal Processed! Length: {len(ecg_signal)} samples\")\n",
    "\n",
    "            # ✅ Plot Processed ECG Signal\n",
    "            plt.figure(figsize=(12, 4))\n",
    "            plt.plot(ecg_signal[:500], color='green')  # Plot first 500 samples\n",
    "            plt.title(f\"Processed ECG Signal: {file_name}\")\n",
    "            plt.xlabel(\"Time (samples)\")\n",
    "            plt.ylabel(\"Normalized Amplitude\")\n",
    "            plt.grid()\n",
    "            plt.show()\n",
    "        else:\n",
    "            print(f\"❌ Could not process {file_name}\")\n"
   ]
  }
 ],
 "metadata": {
  "kernelspec": {
   "display_name": "Python 3 (ipykernel)",
   "language": "python",
   "name": "python3"
  },
  "language_info": {
   "codemirror_mode": {
    "name": "ipython",
    "version": 3
   },
   "file_extension": ".py",
   "mimetype": "text/x-python",
   "name": "python",
   "nbconvert_exporter": "python",
   "pygments_lexer": "ipython3",
   "version": "3.12.4"
  }
 },
 "nbformat": 4,
 "nbformat_minor": 5
}
